{
  "nbformat": 4,
  "nbformat_minor": 0,
  "metadata": {
    "colab": {
      "name": "Email Alert with Python SMTP.ipynb",
      "provenance": [],
      "collapsed_sections": [],
      "authorship_tag": "ABX9TyOksoSN3OsZ+kDCcgVO13H5",
      "include_colab_link": true
    },
    "kernelspec": {
      "name": "python3",
      "display_name": "Python 3"
    }
  },
  "cells": [
    {
      "cell_type": "markdown",
      "metadata": {
        "id": "view-in-github",
        "colab_type": "text"
      },
      "source": [
        "<a href=\"https://colab.research.google.com/github/hnvivek/Auto-TimeSeries/blob/master/Email_Alert_with_Python_SMTP.ipynb\" target=\"_parent\"><img src=\"https://colab.research.google.com/assets/colab-badge.svg\" alt=\"Open In Colab\"/></a>"
      ]
    },
    {
      "cell_type": "code",
      "metadata": {
        "id": "FBWvPsbrnykj"
      },
      "source": [
        "import smtplib\n",
        "import datetime"
      ],
      "execution_count": 5,
      "outputs": []
    },
    {
      "cell_type": "code",
      "metadata": {
        "id": "fZYEVgefn0qq"
      },
      "source": [
        "gmail_user = '' # Your email ID\n",
        "gmail_password = '' # Your Password"
      ],
      "execution_count": 28,
      "outputs": []
    },
    {
      "cell_type": "code",
      "metadata": {
        "colab": {
          "base_uri": "https://localhost:8080/",
          "height": 35
        },
        "id": "XZ34Dy-joCLi",
        "outputId": "8eabc828-f4e6-41d6-e0da-2b53f8a12e5e"
      },
      "source": [
        "#Email-Properties\n",
        "\n",
        "sent_from = gmail_user\n",
        "to = [''] # Senders email ID\n",
        "email_text = 'New alert' + str(datetime.datetime.now())\n",
        "\"\"\"\n",
        "Alert for change in price\n",
        "\"\"\""
      ],
      "execution_count": 29,
      "outputs": [
        {
          "output_type": "execute_result",
          "data": {
            "application/vnd.google.colaboratory.intrinsic+json": {
              "type": "string"
            },
            "text/plain": [
              "'\\nAlert for reduced in price\\n'"
            ]
          },
          "metadata": {
            "tags": []
          },
          "execution_count": 29
        }
      ]
    },
    {
      "cell_type": "code",
      "metadata": {
        "colab": {
          "base_uri": "https://localhost:8080/"
        },
        "id": "QWtPd46DoWIz",
        "outputId": "6911eef0-77eb-4108-9667-53323dd3fd2c"
      },
      "source": [
        "#email send request\n",
        "try:\n",
        "    server = smtplib.SMTP_SSL('smtp.gmail.com', 465)\n",
        "    server.ehlo()\n",
        "    server.login(gmail_user, gmail_password)\n",
        "    server.sendmail(sent_from, to, email_text)\n",
        "    server.close()\n",
        "\n",
        "    print ('Email sent!')\n",
        "except Exception as e:\n",
        "    print(e)\n",
        "    print ('Something went wrong...')"
      ],
      "execution_count": 32,
      "outputs": [
        {
          "output_type": "stream",
          "text": [
            "Email sent!\n"
          ],
          "name": "stdout"
        }
      ]
    },
    {
      "cell_type": "code",
      "metadata": {
        "id": "WXMz0yf7sxBt"
      },
      "source": [
        ""
      ],
      "execution_count": null,
      "outputs": []
    }
  ]
}